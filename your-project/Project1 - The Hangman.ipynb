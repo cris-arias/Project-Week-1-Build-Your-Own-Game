{
 "cells": [
  {
   "cell_type": "code",
   "execution_count": null,
   "metadata": {},
   "outputs": [],
   "source": [
    "# Create list for the program to pick (NOTE for later: create extended list and import it)\n",
    "\n",
    "movies = [\"Brazil\", \"Fargo\", \"Amadeus\", \"Goodfellas\", \"Crash\", \"Batman\", \"Titanic\", \"Trainspotting\", \"Casablanca\"]\n",
    "print (movies)\n",
    "\n",
    "import random"
   ]
  },
  {
   "cell_type": "code",
   "execution_count": null,
   "metadata": {},
   "outputs": [],
   "source": [
    "# Program randomnly picks an item from the list. \n",
    "\n",
    "def pick_movie():\n",
    "    movie = random.choice(movies)\n",
    "    return movie\n",
    "\n",
    "pick_movie()\n",
    "\n",
    "movie_len= len(pick_movie())\n",
    "\n",
    "# Program tells how many letters it has\n",
    "print (\"The word has\", movie_len, \"letters\")\n",
    "\n",
    "word_lenght = \" _ \" * movie_len\n",
    "print (word_lenght)"
   ]
  },
  {
   "cell_type": "code",
   "execution_count": null,
   "metadata": {},
   "outputs": [],
   "source": [
    "# User has a maximum of 6 fails: head + body + 2 arms + 2 legs\n",
    "total_fails = 6\n",
    "\n",
    "# Create a variable to count the fails that starts from 0:\n",
    "fails = 0\n",
    "\n",
    "# Create an empty variable to add the guesses to:\n",
    "guesses = ()\n",
    "\n",
    "# While fails are lower than 6, user can enter input:\n",
    "new_letter = input (\"Type a new letter\")\n",
    "\n",
    "while fails < total_fails:\n",
    "    print (new_letter)\n",
    "    for letter in pick_movie():\n",
    "        if new_letter in pick_movie():\n",
    "            print (new_letter)\n",
    "        else:\n",
    "            print (\"_\")\n",
    "            fails ==+1"
   ]
  },
  {
   "cell_type": "code",
   "execution_count": null,
   "metadata": {},
   "outputs": [],
   "source": []
  },
  {
   "cell_type": "code",
   "execution_count": null,
   "metadata": {},
   "outputs": [],
   "source": []
  },
  {
   "cell_type": "code",
   "execution_count": null,
   "metadata": {},
   "outputs": [],
   "source": []
  },
  {
   "cell_type": "code",
   "execution_count": null,
   "metadata": {},
   "outputs": [],
   "source": []
  }
 ],
 "metadata": {
  "kernelspec": {
   "display_name": "Python 3",
   "language": "python",
   "name": "python3"
  },
  "language_info": {
   "codemirror_mode": {
    "name": "ipython",
    "version": 3
   },
   "file_extension": ".py",
   "mimetype": "text/x-python",
   "name": "python",
   "nbconvert_exporter": "python",
   "pygments_lexer": "ipython3",
   "version": "3.8.3"
  }
 },
 "nbformat": 4,
 "nbformat_minor": 4
}
