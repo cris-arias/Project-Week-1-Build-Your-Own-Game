{
 "cells": [
  {
   "cell_type": "code",
   "execution_count": 1,
   "metadata": {},
   "outputs": [
    {
     "name": "stdout",
     "output_type": "stream",
     "text": [
      "['Brazil', 'Fargo', 'Amadeus', 'Goodfellas', 'Crash', 'Batman', 'Titanic', 'Trainspotting', 'Casablanca']\n"
     ]
    }
   ],
   "source": [
    "# Create list for the program to pick (NOTE for later: create extended list and import it)\n",
    "\n",
    "movies = [\"Brazil\", \"Fargo\", \"Amadeus\", \"Goodfellas\", \"Crash\", \"Batman\", \"Titanic\", \"Trainspotting\", \"Casablanca\"]\n",
    "print (movies)\n",
    "\n",
    "import random"
   ]
  },
  {
   "cell_type": "code",
   "execution_count": 2,
   "metadata": {},
   "outputs": [],
   "source": [
    "# Program randomnly picks an item from the list. \n",
    "\n",
    "def pick_movie():\n",
    "    movie = random.choice(movies)\n",
    "    return movie\n",
    "\n",
    "# Store the result of the function in a variable.\n",
    "movie = pick_movie()\n"
   ]
  },
  {
   "cell_type": "code",
   "execution_count": 3,
   "metadata": {
    "scrolled": true
   },
   "outputs": [
    {
     "name": "stdout",
     "output_type": "stream",
     "text": [
      "The word has 10 letters\n",
      " _  _  _  _  _  _  _  _  _  _ \n"
     ]
    }
   ],
   "source": [
    "# Program tells how many letters the movie has.\n",
    "\n",
    "movie_len= len(movie)\n",
    "print (\"The word has\",movie_len, \"letters\")\n",
    "\n",
    "word_lenght = \" _ \" * movie_len\n",
    "print (word_lenght)"
   ]
  },
  {
   "cell_type": "code",
   "execution_count": null,
   "metadata": {
    "scrolled": false
   },
   "outputs": [],
   "source": [
    "# User has a maximum of 6 fails: head (o) + body (|) + 2 arms (/\\) + 2 legs (/\\)\n",
    "# While fails are lower than 6, user can enter input:\n",
    "\n",
    "max_fails = 6\n",
    "\n",
    "# Create a variable to count the fails:\n",
    "fails = 0\n",
    "\n",
    " # Create an empty variable to add the guesses to:\n",
    "guess_list = []\n",
    "\n",
    "\n",
    "# User can input letters while fails<6\n",
    "\n",
    "while fails < max_fails and len(guess_list) < len(movie):\n",
    "# Create a variable to input letters:\n",
    "\n",
    "    new_letter = input(\"Type a new letter: \")\n",
    "   \n",
    "    if new_letter in movie:\n",
    "        if len(guess_list) == len(movie):\n",
    "            print (\"You win!\")\n",
    "        else:\n",
    "            print (\"Congrats! Letter is in the word\")\n",
    "            guess_list.append (new_letter)\n",
    "    else:\n",
    "        fails +=1\n",
    "        if fails == max_fails:\n",
    "            print (\"Hanged! Play again?\")\n",
    "\n",
    "        else:\n",
    "            print (\"Tough luck. Try again!\")\n",
    "            print (\"Number of fails: \", fails, \"out of 6\")"
   ]
  },
  {
   "cell_type": "code",
   "execution_count": 30,
   "metadata": {
    "scrolled": true
   },
   "outputs": [
    {
     "name": "stdout",
     "output_type": "stream",
     "text": [
      "['_', '_', 'a', '_', '_']\n"
     ]
    }
   ],
   "source": [
    "# When user's input is right, it shows up in the word on its correct location:\n",
    "list1 = list(movie)\n",
    "list2 = ['_' for i in range(len(list1))]\n",
    "\n",
    "u_i = new_letter\n",
    "\n",
    "for index, letter in enumerate(list1):\n",
    "    if letter == u_i:\n",
    "        list2[index] = u_i\n",
    "        \n",
    "print(list2)\n",
    "\n",
    "# Question: does this accumulate the letters? Or does it re-start each time?\n",
    "# How do I connect everything?"
   ]
  },
  {
   "cell_type": "code",
   "execution_count": 39,
   "metadata": {},
   "outputs": [
    {
     "name": "stdout",
     "output_type": "stream",
     "text": [
      "['a', 'c', 'r', 's', 'h']\n"
     ]
    }
   ],
   "source": [
    "print(guess_list)"
   ]
  },
  {
   "cell_type": "code",
   "execution_count": null,
   "metadata": {},
   "outputs": [],
   "source": []
  },
  {
   "cell_type": "code",
   "execution_count": null,
   "metadata": {},
   "outputs": [],
   "source": []
  },
  {
   "cell_type": "code",
   "execution_count": null,
   "metadata": {},
   "outputs": [],
   "source": []
  }
 ],
 "metadata": {
  "kernelspec": {
   "display_name": "Python 3",
   "language": "python",
   "name": "python3"
  },
  "language_info": {
   "codemirror_mode": {
    "name": "ipython",
    "version": 3
   },
   "file_extension": ".py",
   "mimetype": "text/x-python",
   "name": "python",
   "nbconvert_exporter": "python",
   "pygments_lexer": "ipython3",
   "version": "3.8.3"
  }
 },
 "nbformat": 4,
 "nbformat_minor": 4
}
