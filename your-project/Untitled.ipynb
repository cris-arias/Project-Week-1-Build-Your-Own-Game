{
 "cells": [
  {
   "cell_type": "code",
   "execution_count": 59,
   "metadata": {},
   "outputs": [
    {
     "name": "stdout",
     "output_type": "stream",
     "text": [
      "['Brazil', 'Fargo', 'Amadeus', 'Goodfellas', 'Crash', 'Batman', 'Titanic', 'Trainspotting', 'Casablanca']\n"
     ]
    }
   ],
   "source": [
    "# Create list for the program to pick (NOTE for later: create extended list and import it)\n",
    "\n",
    "movies = [\"Brazil\", \"Fargo\", \"Amadeus\", \"Goodfellas\", \"Crash\", \"Batman\", \"Titanic\", \"Trainspotting\", \"Casablanca\"]\n",
    "print (movies)\n",
    "\n",
    "import random"
   ]
  },
  {
   "cell_type": "code",
   "execution_count": 60,
   "metadata": {},
   "outputs": [
    {
     "name": "stdout",
     "output_type": "stream",
     "text": [
      "The word has 10 letters\n"
     ]
    }
   ],
   "source": [
    "# Program randomnly picks an item from the list. Program tells how many letters it has\n",
    "\n",
    "def pick_movie():\n",
    "    movie = random.choice(movies)\n",
    "    return (len(movie))\n",
    "\n",
    "pick_movie()\n",
    "\n",
    "print (\"The word has\", pick_movie(), \"letters\")"
   ]
  },
  {
   "cell_type": "code",
   "execution_count": null,
   "metadata": {},
   "outputs": [],
   "source": []
  }
 ],
 "metadata": {
  "kernelspec": {
   "display_name": "Python 3",
   "language": "python",
   "name": "python3"
  },
  "language_info": {
   "codemirror_mode": {
    "name": "ipython",
    "version": 3
   },
   "file_extension": ".py",
   "mimetype": "text/x-python",
   "name": "python",
   "nbconvert_exporter": "python",
   "pygments_lexer": "ipython3",
   "version": "3.8.3"
  }
 },
 "nbformat": 4,
 "nbformat_minor": 4
}
